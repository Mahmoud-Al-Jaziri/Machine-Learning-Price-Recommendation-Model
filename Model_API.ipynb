{
 "cells": [
  {
   "cell_type": "code",
   "execution_count": 1,
   "id": "247df64f",
   "metadata": {},
   "outputs": [],
   "source": [
    "from flask import Flask, jsonify, request\n",
    "import io\n",
    "import pickle \n",
    "import csv\n",
    "import pandas as pd"
   ]
  },
  {
   "cell_type": "code",
   "execution_count": 2,
   "id": "f2b52b45",
   "metadata": {},
   "outputs": [],
   "source": [
    "model = pickle.load(open(\"pricing_model.pkl\", \"rb\"))\n"
   ]
  },
  {
   "cell_type": "code",
   "execution_count": 3,
   "id": "365d5427",
   "metadata": {},
   "outputs": [],
   "source": [
    "app = Flask(__name__)\n"
   ]
  },
  {
   "cell_type": "code",
   "execution_count": 4,
   "id": "ea86dcd6",
   "metadata": {},
   "outputs": [],
   "source": [
    "\n",
    "@app.route(\"/\",methods=[\"GET\"])\n",
    "def index():\n",
    "    return \"index\";\n",
    "\n",
    "@app.route('/predictions/prices', methods=['POST'])\n",
    "def predict():\n",
    "    \n",
    "    csv_string = request.get_data().decode(\"utf-8\") # Get input data from the request\n",
    "    input_data = pd.read_csv(io.StringIO(csv_string));\n",
    "    y = input_data.price\n",
    "    input_data.info()\n",
    "    #print(input_data)\n",
    "    # Perform preprocessing on the input data if required\n",
    "    input_data.dropna(axis=0, subset=['price'], inplace=True)\n",
    "    input_data.drop(['price'], axis=1, inplace=True)\n",
    "\n",
    "    input_data['date'] = pd.to_datetime(input_data['date'])\n",
    "    \n",
    "    low_cardinality_cols = [cname for cname in input_data.columns if input_data[cname].nunique() < 10 and \n",
    "                        input_data[cname].dtype == \"object\"]\n",
    "    \n",
    "    numeric_cols = [cname for cname in input_data.columns if input_data[cname].dtype in ['int64', 'float64']]\n",
    "\n",
    "    # Keep selected columns only\n",
    "    my_cols = low_cardinality_cols + numeric_cols\n",
    "    input_data1 = input_data[my_cols].copy()\n",
    "\n",
    "    # One-hot encode the data (to shorten the code, we use pandas)\n",
    "\n",
    "    input_data1 = pd.get_dummies(input_data1)\n",
    "\n",
    "    # Make predictions using the loaded model\n",
    "    predictions = model.predict(input_data1)\n",
    "    predictions_df = pd.DataFrame({'item_id' : input_data['item_id'],'Actual': y, 'Predicted': predictions})\n",
    "    aggregated_predictions = predictions_df.groupby(input_data1['item_id']).mean()\n",
    "    aggregated_predictions['item_id'] = aggregated_predictions['item_id'].astype(int)\n",
    "    j = aggregated_predictions.to_json(orient='records')\n",
    "\n",
    "    print(j)\n",
    "    #return jsonify([])\n",
    "    # Return the predictions as a response\n",
    "    return j\n"
   ]
  },
  {
   "cell_type": "code",
   "execution_count": null,
   "id": "faa3350a",
   "metadata": {},
   "outputs": [
    {
     "name": "stdout",
     "output_type": "stream",
     "text": [
      " * Serving Flask app \"__main__\" (lazy loading)\n",
      " * Environment: production\n",
      "\u001b[31m   WARNING: This is a development server. Do not use it in a production deployment.\u001b[0m\n",
      "\u001b[2m   Use a production WSGI server instead.\u001b[0m\n",
      " * Debug mode: off\n"
     ]
    },
    {
     "name": "stderr",
     "output_type": "stream",
     "text": [
      " * Running on all addresses.\n",
      "   WARNING: This is a development server. Do not use it in a production deployment.\n",
      " * Running on http://10.128.235.104:5000/ (Press CTRL+C to quit)\n",
      "127.0.0.1 - - [26/Jun/2023 13:10:02] \"POST /predictions/prices HTTP/1.1\" 200 -\n"
     ]
    },
    {
     "name": "stdout",
     "output_type": "stream",
     "text": [
      "<class 'pandas.core.frame.DataFrame'>\n",
      "RangeIndex: 21920 entries, 0 to 21919\n",
      "Data columns (total 4 columns):\n",
      " #   Column      Non-Null Count  Dtype  \n",
      "---  ------      --------------  -----  \n",
      " 0   date        21920 non-null  object \n",
      " 1   item_id     21920 non-null  int64  \n",
      " 2   price       21920 non-null  float64\n",
      " 3   item_count  21920 non-null  float64\n",
      "dtypes: float64(2), int64(1), object(1)\n",
      "memory usage: 685.1+ KB\n",
      "[{\"item_id\":1,\"Actual\":6.71,\"Predicted\":6.7129998207},{\"item_id\":2,\"Actual\":15.09,\"Predicted\":15.0905265808},{\"item_id\":3,\"Actual\":29.22,\"Predicted\":29.211473465},{\"item_id\":4,\"Actual\":26.42,\"Predicted\":26.420633316},{\"item_id\":5,\"Actual\":6.07,\"Predicted\":6.0716757774},{\"item_id\":6,\"Actual\":5.61,\"Predicted\":5.616941452},{\"item_id\":7,\"Actual\":8.1,\"Predicted\":8.1026763916},{\"item_id\":8,\"Actual\":24.98,\"Predicted\":24.9700336456},{\"item_id\":9,\"Actual\":3.91,\"Predicted\":3.9155955315},{\"item_id\":10,\"Actual\":21.13,\"Predicted\":21.1237411499},{\"item_id\":11,\"Actual\":19.48,\"Predicted\":19.4765605927},{\"item_id\":12,\"Actual\":4.87,\"Predicted\":4.8689169884},{\"item_id\":13,\"Actual\":4.18,\"Predicted\":4.1895565987},{\"item_id\":14,\"Actual\":3.9,\"Predicted\":3.9020233154},{\"item_id\":15,\"Actual\":18.78,\"Predicted\":18.7684421539},{\"item_id\":16,\"Actual\":3.21,\"Predicted\":3.2302830219},{\"item_id\":17,\"Actual\":6.21,\"Predicted\":6.2120904922},{\"item_id\":18,\"Actual\":18.82,\"Predicted\":18.8050479889},{\"item_id\":19,\"Actual\":2.89,\"Predicted\":2.8897321224},{\"item_id\":20,\"Actual\":7.95,\"Predicted\":7.9618525505},{\"item_id\":21,\"Actual\":23.23,\"Predicted\":23.2247810364},{\"item_id\":22,\"Actual\":19.05,\"Predicted\":19.0440139771},{\"item_id\":23,\"Actual\":10.86,\"Predicted\":10.8741950989},{\"item_id\":24,\"Actual\":7.91,\"Predicted\":7.8996162415},{\"item_id\":25,\"Actual\":6.23,\"Predicted\":6.2500047684},{\"item_id\":26,\"Actual\":7.55,\"Predicted\":7.5523166656},{\"item_id\":27,\"Actual\":26.21,\"Predicted\":26.1881752014},{\"item_id\":28,\"Actual\":15.23,\"Predicted\":15.2262363434},{\"item_id\":29,\"Actual\":2.43,\"Predicted\":2.4530220032},{\"item_id\":30,\"Actual\":5.08,\"Predicted\":5.0803117752},{\"item_id\":31,\"Actual\":5.62,\"Predicted\":5.6091146469},{\"item_id\":32,\"Actual\":3.86,\"Predicted\":3.8733129501},{\"item_id\":33,\"Actual\":20.8,\"Predicted\":20.7918643951},{\"item_id\":34,\"Actual\":27.47,\"Predicted\":27.4526901245},{\"item_id\":35,\"Actual\":4.36,\"Predicted\":4.3756632805},{\"item_id\":36,\"Actual\":21.14,\"Predicted\":21.1123962402},{\"item_id\":37,\"Actual\":7.36,\"Predicted\":7.3787546158},{\"item_id\":38,\"Actual\":10.8,\"Predicted\":10.8044910431},{\"item_id\":39,\"Actual\":19.03,\"Predicted\":19.0263214111},{\"item_id\":40,\"Actual\":22.67,\"Predicted\":22.6563930511},{\"item_id\":41,\"Actual\":6.01,\"Predicted\":6.0089330673},{\"item_id\":42,\"Actual\":2.91,\"Predicted\":2.9244017601},{\"item_id\":43,\"Actual\":7.13,\"Predicted\":7.1085743904},{\"item_id\":44,\"Actual\":5.5,\"Predicted\":5.5187854767},{\"item_id\":45,\"Actual\":23.43,\"Predicted\":23.4232635498},{\"item_id\":46,\"Actual\":6.89,\"Predicted\":6.9084649086},{\"item_id\":47,\"Actual\":8.01,\"Predicted\":8.0100431442},{\"item_id\":48,\"Actual\":11.82,\"Predicted\":11.7967233658},{\"item_id\":49,\"Actual\":1.39,\"Predicted\":1.4066025019},{\"item_id\":50,\"Actual\":26.37,\"Predicted\":26.3497657776},{\"item_id\":51,\"Actual\":17.55,\"Predicted\":17.5509719849},{\"item_id\":52,\"Actual\":5.68,\"Predicted\":5.6937522888},{\"item_id\":53,\"Actual\":7.87,\"Predicted\":7.8532977104},{\"item_id\":54,\"Actual\":6.51,\"Predicted\":6.5392360687},{\"item_id\":55,\"Actual\":6.63,\"Predicted\":6.6195988655},{\"item_id\":56,\"Actual\":28.75,\"Predicted\":28.7392368317},{\"item_id\":57,\"Actual\":3.93,\"Predicted\":3.9582717419},{\"item_id\":58,\"Actual\":13.66,\"Predicted\":13.6437911987},{\"item_id\":59,\"Actual\":23.37,\"Predicted\":23.3771190643},{\"item_id\":60,\"Actual\":15.69,\"Predicted\":15.6949958801},{\"item_id\":61,\"Actual\":18.53,\"Predicted\":18.5129470825},{\"item_id\":62,\"Actual\":5.7,\"Predicted\":5.7009820938},{\"item_id\":63,\"Actual\":3.74,\"Predicted\":3.754496336},{\"item_id\":64,\"Actual\":16.09,\"Predicted\":16.0878219604},{\"item_id\":65,\"Actual\":20.02,\"Predicted\":19.9978046417},{\"item_id\":66,\"Actual\":6.31,\"Predicted\":6.3236451149},{\"item_id\":67,\"Actual\":7.0,\"Predicted\":7.0096392632},{\"item_id\":68,\"Actual\":8.7,\"Predicted\":8.7124109268},{\"item_id\":69,\"Actual\":26.04,\"Predicted\":26.0167198181},{\"item_id\":70,\"Actual\":16.28,\"Predicted\":16.2837772369},{\"item_id\":71,\"Actual\":3.98,\"Predicted\":3.9994015694},{\"item_id\":72,\"Actual\":6.53,\"Predicted\":6.5179796219},{\"item_id\":73,\"Actual\":5.16,\"Predicted\":5.1699142456},{\"item_id\":74,\"Actual\":4.11,\"Predicted\":4.1300034523},{\"item_id\":75,\"Actual\":5.6,\"Predicted\":5.596303463},{\"item_id\":76,\"Actual\":17.93,\"Predicted\":17.9322071075},{\"item_id\":77,\"Actual\":7.7,\"Predicted\":7.6877293587},{\"item_id\":78,\"Actual\":2.99,\"Predicted\":2.9974966049},{\"item_id\":79,\"Actual\":3.75,\"Predicted\":3.7551972866},{\"item_id\":80,\"Actual\":53.98,\"Predicted\":53.9608383179},{\"item_id\":81,\"Actual\":5.11,\"Predicted\":5.1164045334},{\"item_id\":82,\"Actual\":5.45,\"Predicted\":5.4527626038},{\"item_id\":83,\"Actual\":8.55,\"Predicted\":8.5478229523},{\"item_id\":84,\"Actual\":19.77,\"Predicted\":19.7601623535},{\"item_id\":85,\"Actual\":4.02,\"Predicted\":4.0245890617},{\"item_id\":86,\"Actual\":6.5,\"Predicted\":6.497754097},{\"item_id\":87,\"Actual\":7.22,\"Predicted\":7.2250499725},{\"item_id\":88,\"Actual\":16.06,\"Predicted\":16.0509757996},{\"item_id\":89,\"Actual\":3.06,\"Predicted\":3.0689556599},{\"item_id\":90,\"Actual\":7.71,\"Predicted\":7.7138066292},{\"item_id\":91,\"Actual\":15.46,\"Predicted\":15.4495782852},{\"item_id\":92,\"Actual\":3.23,\"Predicted\":3.2394590378},{\"item_id\":93,\"Actual\":12.44,\"Predicted\":12.4344577789},{\"item_id\":94,\"Actual\":5.71,\"Predicted\":5.7171850204},{\"item_id\":95,\"Actual\":19.04,\"Predicted\":19.0382099152},{\"item_id\":96,\"Actual\":21.93,\"Predicted\":21.926071167},{\"item_id\":97,\"Actual\":28.65,\"Predicted\":28.6418190002},{\"item_id\":98,\"Actual\":5.0,\"Predicted\":5.0017752647},{\"item_id\":99,\"Actual\":5.32,\"Predicted\":5.3218069077},{\"item_id\":100,\"Actual\":2.48,\"Predicted\":2.4827337265}]\n"
     ]
    }
   ],
   "source": [
    "if __name__ == '__main__':\n",
    "    app.run(host='0.0.0.0',port=5000)"
   ]
  }
 ],
 "metadata": {
  "kernelspec": {
   "display_name": "Python 3 (ipykernel)",
   "language": "python",
   "name": "python3"
  },
  "language_info": {
   "codemirror_mode": {
    "name": "ipython",
    "version": 3
   },
   "file_extension": ".py",
   "mimetype": "text/x-python",
   "name": "python",
   "nbconvert_exporter": "python",
   "pygments_lexer": "ipython3",
   "version": "3.9.12"
  }
 },
 "nbformat": 4,
 "nbformat_minor": 5
}
