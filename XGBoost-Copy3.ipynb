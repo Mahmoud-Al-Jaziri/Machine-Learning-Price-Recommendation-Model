{
 "cells": [
  {
   "cell_type": "code",
   "execution_count": 1,
   "id": "0afac79f",
   "metadata": {},
   "outputs": [],
   "source": [
    "import pandas as pd\n",
    "from sklearn.model_selection import train_test_split, cross_val_score\n",
    "from sklearn.pipeline import Pipeline\n",
    "from sklearn.impute import SimpleImputer\n",
    "from xgboost import XGBRegressor\n",
    "from sklearn.metrics import mean_absolute_error\n",
    "from sklearn.metrics import r2_score, make_scorer\n",
    "import pickle"
   ]
  },
  {
   "cell_type": "code",
   "execution_count": 2,
   "id": "fcac6b3a",
   "metadata": {},
   "outputs": [
    {
     "data": {
      "text/html": [
       "<div>\n",
       "<style scoped>\n",
       "    .dataframe tbody tr th:only-of-type {\n",
       "        vertical-align: middle;\n",
       "    }\n",
       "\n",
       "    .dataframe tbody tr th {\n",
       "        vertical-align: top;\n",
       "    }\n",
       "\n",
       "    .dataframe thead th {\n",
       "        text-align: right;\n",
       "    }\n",
       "</style>\n",
       "<table border=\"1\" class=\"dataframe\">\n",
       "  <thead>\n",
       "    <tr style=\"text-align: right;\">\n",
       "      <th></th>\n",
       "      <th>date</th>\n",
       "      <th>item_id</th>\n",
       "      <th>price</th>\n",
       "      <th>item_count</th>\n",
       "    </tr>\n",
       "  </thead>\n",
       "  <tbody>\n",
       "    <tr>\n",
       "      <th>0</th>\n",
       "      <td>2019-01-01</td>\n",
       "      <td>3</td>\n",
       "      <td>29.22</td>\n",
       "      <td>2.0</td>\n",
       "    </tr>\n",
       "    <tr>\n",
       "      <th>1</th>\n",
       "      <td>2019-01-01</td>\n",
       "      <td>4</td>\n",
       "      <td>26.42</td>\n",
       "      <td>22.0</td>\n",
       "    </tr>\n",
       "    <tr>\n",
       "      <th>2</th>\n",
       "      <td>2019-01-01</td>\n",
       "      <td>12</td>\n",
       "      <td>4.87</td>\n",
       "      <td>7.0</td>\n",
       "    </tr>\n",
       "    <tr>\n",
       "      <th>3</th>\n",
       "      <td>2019-01-01</td>\n",
       "      <td>13</td>\n",
       "      <td>4.18</td>\n",
       "      <td>12.0</td>\n",
       "    </tr>\n",
       "    <tr>\n",
       "      <th>4</th>\n",
       "      <td>2019-01-01</td>\n",
       "      <td>16</td>\n",
       "      <td>3.21</td>\n",
       "      <td>136.0</td>\n",
       "    </tr>\n",
       "    <tr>\n",
       "      <th>...</th>\n",
       "      <td>...</td>\n",
       "      <td>...</td>\n",
       "      <td>...</td>\n",
       "      <td>...</td>\n",
       "    </tr>\n",
       "    <tr>\n",
       "      <th>109595</th>\n",
       "      <td>2021-12-31</td>\n",
       "      <td>96</td>\n",
       "      <td>21.93</td>\n",
       "      <td>0.0</td>\n",
       "    </tr>\n",
       "    <tr>\n",
       "      <th>109596</th>\n",
       "      <td>2021-12-31</td>\n",
       "      <td>97</td>\n",
       "      <td>28.65</td>\n",
       "      <td>0.0</td>\n",
       "    </tr>\n",
       "    <tr>\n",
       "      <th>109597</th>\n",
       "      <td>2021-12-31</td>\n",
       "      <td>98</td>\n",
       "      <td>5.00</td>\n",
       "      <td>0.0</td>\n",
       "    </tr>\n",
       "    <tr>\n",
       "      <th>109598</th>\n",
       "      <td>2021-12-31</td>\n",
       "      <td>99</td>\n",
       "      <td>5.32</td>\n",
       "      <td>0.0</td>\n",
       "    </tr>\n",
       "    <tr>\n",
       "      <th>109599</th>\n",
       "      <td>2021-12-31</td>\n",
       "      <td>100</td>\n",
       "      <td>2.48</td>\n",
       "      <td>0.0</td>\n",
       "    </tr>\n",
       "  </tbody>\n",
       "</table>\n",
       "<p>109600 rows × 4 columns</p>\n",
       "</div>"
      ],
      "text/plain": [
       "              date  item_id  price  item_count\n",
       "0       2019-01-01        3  29.22         2.0\n",
       "1       2019-01-01        4  26.42        22.0\n",
       "2       2019-01-01       12   4.87         7.0\n",
       "3       2019-01-01       13   4.18        12.0\n",
       "4       2019-01-01       16   3.21       136.0\n",
       "...            ...      ...    ...         ...\n",
       "109595  2021-12-31       96  21.93         0.0\n",
       "109596  2021-12-31       97  28.65         0.0\n",
       "109597  2021-12-31       98   5.00         0.0\n",
       "109598  2021-12-31       99   5.32         0.0\n",
       "109599  2021-12-31      100   2.48         0.0\n",
       "\n",
       "[109600 rows x 4 columns]"
      ]
     },
     "execution_count": 2,
     "metadata": {},
     "output_type": "execute_result"
    }
   ],
   "source": [
    "X = pd.read_csv(r'C:\\Users\\mj\\Desktop\\ML-\\sales_train.csv')\n",
    "X"
   ]
  },
  {
   "cell_type": "code",
   "execution_count": 3,
   "id": "cf483e37",
   "metadata": {},
   "outputs": [],
   "source": [
    "# i realized that i can aggregate my predition instade \n"
   ]
  },
  {
   "cell_type": "code",
   "execution_count": 4,
   "id": "4fc37726",
   "metadata": {},
   "outputs": [
    {
     "data": {
      "text/html": [
       "<div>\n",
       "<style scoped>\n",
       "    .dataframe tbody tr th:only-of-type {\n",
       "        vertical-align: middle;\n",
       "    }\n",
       "\n",
       "    .dataframe tbody tr th {\n",
       "        vertical-align: top;\n",
       "    }\n",
       "\n",
       "    .dataframe thead th {\n",
       "        text-align: right;\n",
       "    }\n",
       "</style>\n",
       "<table border=\"1\" class=\"dataframe\">\n",
       "  <thead>\n",
       "    <tr style=\"text-align: right;\">\n",
       "      <th></th>\n",
       "      <th>date</th>\n",
       "      <th>item_id</th>\n",
       "      <th>price</th>\n",
       "      <th>item_count</th>\n",
       "    </tr>\n",
       "  </thead>\n",
       "  <tbody>\n",
       "    <tr>\n",
       "      <th>0</th>\n",
       "      <td>2021-10-26</td>\n",
       "      <td>67</td>\n",
       "      <td>7.00</td>\n",
       "      <td>5.0</td>\n",
       "    </tr>\n",
       "    <tr>\n",
       "      <th>1</th>\n",
       "      <td>2019-01-08</td>\n",
       "      <td>67</td>\n",
       "      <td>7.00</td>\n",
       "      <td>9.0</td>\n",
       "    </tr>\n",
       "    <tr>\n",
       "      <th>2</th>\n",
       "      <td>2019-01-23</td>\n",
       "      <td>12</td>\n",
       "      <td>4.87</td>\n",
       "      <td>5.0</td>\n",
       "    </tr>\n",
       "    <tr>\n",
       "      <th>3</th>\n",
       "      <td>2020-10-08</td>\n",
       "      <td>15</td>\n",
       "      <td>18.78</td>\n",
       "      <td>0.0</td>\n",
       "    </tr>\n",
       "    <tr>\n",
       "      <th>4</th>\n",
       "      <td>2020-11-03</td>\n",
       "      <td>50</td>\n",
       "      <td>26.37</td>\n",
       "      <td>0.0</td>\n",
       "    </tr>\n",
       "    <tr>\n",
       "      <th>...</th>\n",
       "      <td>...</td>\n",
       "      <td>...</td>\n",
       "      <td>...</td>\n",
       "      <td>...</td>\n",
       "    </tr>\n",
       "    <tr>\n",
       "      <th>21915</th>\n",
       "      <td>2021-08-27</td>\n",
       "      <td>76</td>\n",
       "      <td>17.93</td>\n",
       "      <td>97.0</td>\n",
       "    </tr>\n",
       "    <tr>\n",
       "      <th>21916</th>\n",
       "      <td>2021-08-27</td>\n",
       "      <td>62</td>\n",
       "      <td>5.70</td>\n",
       "      <td>0.0</td>\n",
       "    </tr>\n",
       "    <tr>\n",
       "      <th>21917</th>\n",
       "      <td>2020-09-30</td>\n",
       "      <td>20</td>\n",
       "      <td>7.95</td>\n",
       "      <td>0.0</td>\n",
       "    </tr>\n",
       "    <tr>\n",
       "      <th>21918</th>\n",
       "      <td>2019-08-28</td>\n",
       "      <td>76</td>\n",
       "      <td>17.93</td>\n",
       "      <td>54.0</td>\n",
       "    </tr>\n",
       "    <tr>\n",
       "      <th>21919</th>\n",
       "      <td>2021-03-30</td>\n",
       "      <td>60</td>\n",
       "      <td>15.69</td>\n",
       "      <td>0.0</td>\n",
       "    </tr>\n",
       "  </tbody>\n",
       "</table>\n",
       "<p>21920 rows × 4 columns</p>\n",
       "</div>"
      ],
      "text/plain": [
       "             date  item_id  price  item_count\n",
       "0      2021-10-26       67   7.00         5.0\n",
       "1      2019-01-08       67   7.00         9.0\n",
       "2      2019-01-23       12   4.87         5.0\n",
       "3      2020-10-08       15  18.78         0.0\n",
       "4      2020-11-03       50  26.37         0.0\n",
       "...           ...      ...    ...         ...\n",
       "21915  2021-08-27       76  17.93        97.0\n",
       "21916  2021-08-27       62   5.70         0.0\n",
       "21917  2020-09-30       20   7.95         0.0\n",
       "21918  2019-08-28       76  17.93        54.0\n",
       "21919  2021-03-30       60  15.69         0.0\n",
       "\n",
       "[21920 rows x 4 columns]"
      ]
     },
     "execution_count": 4,
     "metadata": {},
     "output_type": "execute_result"
    }
   ],
   "source": [
    "X_test_full = pd.read_csv(r'C:\\Users\\mj\\Desktop\\test_data.csv')\n",
    "X_test_full"
   ]
  },
  {
   "cell_type": "code",
   "execution_count": 5,
   "id": "02da936b",
   "metadata": {},
   "outputs": [],
   "source": [
    "# Remove rows with missing target, separate target from predictors\n",
    "X.dropna(axis=0, subset=['price'], inplace=True)\n",
    "y = X.price              \n",
    "X.drop(['price'], axis=1, inplace=True)\n"
   ]
  },
  {
   "cell_type": "code",
   "execution_count": 6,
   "id": "18809a72",
   "metadata": {},
   "outputs": [],
   "source": [
    "# Break off validation set from training data\n",
    "X_train_full, X_valid_full, y_train, y_valid = train_test_split(X, y, train_size=0.8, test_size=0.2,random_state=0)\n",
    "\n"
   ]
  },
  {
   "cell_type": "code",
   "execution_count": 7,
   "id": "918e26d5",
   "metadata": {},
   "outputs": [],
   "source": [
    "# \"Cardinality\" means the number of unique values in a column\n",
    "# Select categorical columns with relatively low cardinality (convenient but arbitrary)\n",
    "low_cardinality_cols = [cname for cname in X_train_full.columns if X_train_full[cname].nunique() < 10 and \n",
    "                        X_train_full[cname].dtype == \"object\"]\n",
    "\n",
    "# Select numeric columns\n",
    "numeric_cols = [cname for cname in X_train_full.columns if X_train_full[cname].dtype in ['int64', 'float64']]\n",
    "\n",
    "# Keep selected columns only\n",
    "my_cols = low_cardinality_cols + numeric_cols\n",
    "X_train = X_train_full[my_cols].copy()\n",
    "X_valid = X_valid_full[my_cols].copy()\n",
    "X_test = X_test_full[my_cols].copy()\n",
    "\n",
    "# One-hot encode the data (to shorten the code, we use pandas)\n",
    "X_train = pd.get_dummies(X_train)\n",
    "X_valid = pd.get_dummies(X_valid)\n",
    "X_test = pd.get_dummies(X_test)\n",
    "X_train, X_valid = X_train.align(X_valid, join='left', axis=1)\n",
    "X_train, X_test = X_train.align(X_test, join='left', axis=1)"
   ]
  },
  {
   "cell_type": "code",
   "execution_count": 8,
   "id": "7af64e5f",
   "metadata": {},
   "outputs": [
    {
     "data": {
      "text/plain": [
       "XGBRegressor(base_score=None, booster=None, callbacks=None,\n",
       "             colsample_bylevel=None, colsample_bynode=None,\n",
       "             colsample_bytree=None, early_stopping_rounds=None,\n",
       "             enable_categorical=False, eval_metric=None, feature_types=None,\n",
       "             gamma=None, gpu_id=None, grow_policy=None, importance_type=None,\n",
       "             interaction_constraints=None, learning_rate=None, max_bin=None,\n",
       "             max_cat_threshold=None, max_cat_to_onehot=None,\n",
       "             max_delta_step=None, max_depth=None, max_leaves=None,\n",
       "             min_child_weight=None, missing=nan, monotone_constraints=None,\n",
       "             n_estimators=100, n_jobs=None, num_parallel_tree=None,\n",
       "             predictor=None, random_state=0, ...)"
      ]
     },
     "execution_count": 8,
     "metadata": {},
     "output_type": "execute_result"
    }
   ],
   "source": [
    "my_model_1 = XGBRegressor(random_state=0)\n",
    "my_model_1.fit(X_train, y_train)"
   ]
  },
  {
   "cell_type": "code",
   "execution_count": 9,
   "id": "df69ccbf",
   "metadata": {},
   "outputs": [],
   "source": [
    "predictions_1 = my_model_1.predict(X_valid)"
   ]
  },
  {
   "cell_type": "code",
   "execution_count": 10,
   "id": "3f7ccd73",
   "metadata": {},
   "outputs": [
    {
     "name": "stdout",
     "output_type": "stream",
     "text": [
      "Mean Absolute Error: 0.012082826777096193\n"
     ]
    }
   ],
   "source": [
    "mae_1 = mean_absolute_error(predictions_1, y_valid)\n",
    "print(\"Mean Absolute Error:\" , mae_1)"
   ]
  },
  {
   "cell_type": "code",
   "execution_count": 11,
   "id": "422f190c",
   "metadata": {},
   "outputs": [
    {
     "data": {
      "text/plain": [
       "array([ 6.9963913,  6.918841 ,  4.8617983, ...,  7.9610505, 17.930777 ,\n",
       "       15.694328 ], dtype=float32)"
      ]
     },
     "execution_count": 11,
     "metadata": {},
     "output_type": "execute_result"
    }
   ],
   "source": [
    "predictions_1"
   ]
  },
  {
   "cell_type": "code",
   "execution_count": 12,
   "id": "32628a05",
   "metadata": {},
   "outputs": [
    {
     "name": "stdout",
     "output_type": "stream",
     "text": [
      "        Actual  Predicted\n",
      "102915    7.00   6.996391\n",
      "712       7.00   6.918841\n",
      "2202      4.87   4.861798\n",
      "64633    18.78  18.767939\n",
      "67257    26.37  26.351900\n",
      "...        ...        ...\n",
      "96921    17.93  17.944063\n",
      "96968     5.70   5.700958\n",
      "63837     7.95   7.961051\n",
      "23917    17.93  17.930777\n",
      "81966    15.69  15.694328\n",
      "\n",
      "[21920 rows x 2 columns]\n"
     ]
    }
   ],
   "source": [
    "# Combine predicted and actual values into a DataFrame\n",
    "predictions_df = pd.DataFrame({'Actual': y_valid, 'Predicted': predictions_1})\n",
    "#j = predictions_df.to_json(orient='records')\n",
    "\n",
    "# Print the DataFrame\n",
    "print(predictions_df)"
   ]
  },
  {
   "cell_type": "code",
   "execution_count": 13,
   "id": "6e479833",
   "metadata": {},
   "outputs": [
    {
     "name": "stdout",
     "output_type": "stream",
     "text": [
      "         Actual  Predicted\n",
      "item_id                   \n",
      "1          6.71   6.713000\n",
      "2         15.09  15.090527\n",
      "3         29.22  29.211473\n",
      "4         26.42  26.420633\n",
      "5          6.07   6.071676\n",
      "...         ...        ...\n",
      "96        21.93  21.926071\n",
      "97        28.65  28.641819\n",
      "98         5.00   5.001775\n",
      "99         5.32   5.321807\n",
      "100        2.48   2.482734\n",
      "\n",
      "[100 rows x 2 columns]\n"
     ]
    }
   ],
   "source": [
    "# Aggregate predictions and actual values based on item ID\n",
    "aggregated_predictions = predictions_df.groupby(X_valid['item_id']).mean()\n",
    "\n",
    "# Print the aggregated predictions\n",
    "print(aggregated_predictions)"
   ]
  },
  {
   "cell_type": "code",
   "execution_count": 14,
   "id": "1e240598",
   "metadata": {},
   "outputs": [],
   "source": [
    "item_names_df = pd.read_csv(r'C:\\Users\\mj\\Desktop\\items.csv')\n",
    "# Rename the 'id' column to 'item_id'\n",
    "item_names_df.rename(columns={'id': 'item_id'}, inplace=True)\n",
    "\n",
    "# Drop the 'store_id', 'kcal', and 'cost' columns\n",
    "item_names_df.drop(['store_id', 'kcal', 'cost'], axis=1, inplace=True)\n",
    "\n",
    "\n",
    "# Merge the predictions DataFrame with item_names_df based on item_id\n",
    "predictions_with_names = pd.merge(aggregated_predictions, item_names_df, on='item_id')\n",
    "\n"
   ]
  },
  {
   "cell_type": "code",
   "execution_count": 15,
   "id": "1efc8634",
   "metadata": {},
   "outputs": [
    {
     "data": {
      "text/html": [
       "<div>\n",
       "<style scoped>\n",
       "    .dataframe tbody tr th:only-of-type {\n",
       "        vertical-align: middle;\n",
       "    }\n",
       "\n",
       "    .dataframe tbody tr th {\n",
       "        vertical-align: top;\n",
       "    }\n",
       "\n",
       "    .dataframe thead th {\n",
       "        text-align: right;\n",
       "    }\n",
       "</style>\n",
       "<table border=\"1\" class=\"dataframe\">\n",
       "  <thead>\n",
       "    <tr style=\"text-align: right;\">\n",
       "      <th></th>\n",
       "      <th>item_id</th>\n",
       "      <th>Actual</th>\n",
       "      <th>Predicted</th>\n",
       "      <th>name</th>\n",
       "    </tr>\n",
       "  </thead>\n",
       "  <tbody>\n",
       "    <tr>\n",
       "      <th>0</th>\n",
       "      <td>1</td>\n",
       "      <td>6.71</td>\n",
       "      <td>6.713000</td>\n",
       "      <td>Chocolate Cake</td>\n",
       "    </tr>\n",
       "    <tr>\n",
       "      <th>1</th>\n",
       "      <td>2</td>\n",
       "      <td>15.09</td>\n",
       "      <td>15.090527</td>\n",
       "      <td>Breaded Fish with Vegetables Meal</td>\n",
       "    </tr>\n",
       "    <tr>\n",
       "      <th>2</th>\n",
       "      <td>3</td>\n",
       "      <td>29.22</td>\n",
       "      <td>29.211473</td>\n",
       "      <td>Sweet Fruity Cake</td>\n",
       "    </tr>\n",
       "    <tr>\n",
       "      <th>3</th>\n",
       "      <td>4</td>\n",
       "      <td>26.42</td>\n",
       "      <td>26.420633</td>\n",
       "      <td>Amazing Steak Dinner with Rolls</td>\n",
       "    </tr>\n",
       "    <tr>\n",
       "      <th>4</th>\n",
       "      <td>5</td>\n",
       "      <td>6.07</td>\n",
       "      <td>6.071676</td>\n",
       "      <td>Milk Cake</td>\n",
       "    </tr>\n",
       "    <tr>\n",
       "      <th>5</th>\n",
       "      <td>6</td>\n",
       "      <td>5.61</td>\n",
       "      <td>5.616941</td>\n",
       "      <td>Fruity Frozen Cocktail</td>\n",
       "    </tr>\n",
       "    <tr>\n",
       "      <th>6</th>\n",
       "      <td>7</td>\n",
       "      <td>8.10</td>\n",
       "      <td>8.102676</td>\n",
       "      <td>Fruity Milky Cake</td>\n",
       "    </tr>\n",
       "    <tr>\n",
       "      <th>7</th>\n",
       "      <td>8</td>\n",
       "      <td>24.98</td>\n",
       "      <td>24.970034</td>\n",
       "      <td>Amazing Trout with Vegetables Dinner</td>\n",
       "    </tr>\n",
       "    <tr>\n",
       "      <th>8</th>\n",
       "      <td>9</td>\n",
       "      <td>3.91</td>\n",
       "      <td>3.915596</td>\n",
       "      <td>Orange Juice</td>\n",
       "    </tr>\n",
       "    <tr>\n",
       "      <th>9</th>\n",
       "      <td>10</td>\n",
       "      <td>21.13</td>\n",
       "      <td>21.123741</td>\n",
       "      <td>Mutton with Roles and Vegetables Plate</td>\n",
       "    </tr>\n",
       "  </tbody>\n",
       "</table>\n",
       "</div>"
      ],
      "text/plain": [
       "   item_id  Actual  Predicted                                    name\n",
       "0        1    6.71   6.713000                          Chocolate Cake\n",
       "1        2   15.09  15.090527       Breaded Fish with Vegetables Meal\n",
       "2        3   29.22  29.211473                       Sweet Fruity Cake\n",
       "3        4   26.42  26.420633         Amazing Steak Dinner with Rolls\n",
       "4        5    6.07   6.071676                               Milk Cake\n",
       "5        6    5.61   5.616941                  Fruity Frozen Cocktail\n",
       "6        7    8.10   8.102676                       Fruity Milky Cake\n",
       "7        8   24.98  24.970034    Amazing Trout with Vegetables Dinner\n",
       "8        9    3.91   3.915596                            Orange Juice\n",
       "9       10   21.13  21.123741  Mutton with Roles and Vegetables Plate"
      ]
     },
     "execution_count": 15,
     "metadata": {},
     "output_type": "execute_result"
    }
   ],
   "source": [
    "# Print the updated DataFrame\n",
    "predictions_with_names.head(10)"
   ]
  },
  {
   "cell_type": "code",
   "execution_count": 16,
   "id": "3d881e8c",
   "metadata": {},
   "outputs": [
    {
     "name": "stdout",
     "output_type": "stream",
     "text": [
      "Mean Absolute Errors: [0.01908327 0.01484061 0.01520228 0.01641554 0.01624918]\n"
     ]
    }
   ],
   "source": [
    "# Define the pipeline\n",
    "pipeline = Pipeline(steps=[(\"model\", my_model_1)])\n",
    "\n",
    "# Perform cross-validation\n",
    "scores = -cross_val_score(\n",
    "    pipeline, X_train, y_train, cv=5, scoring=\"neg_mean_absolute_error\"\n",
    ")\n",
    "\n",
    "# Print the mean absolute error for each fold\n",
    "print(\"Mean Absolute Errors:\", scores)\n"
   ]
  },
  {
   "cell_type": "code",
   "execution_count": 17,
   "id": "696df9b5",
   "metadata": {},
   "outputs": [
    {
     "name": "stdout",
     "output_type": "stream",
     "text": [
      "R2 : [0.99994512 0.99999216 0.9999875  0.99998294 0.99997942]\n"
     ]
    }
   ],
   "source": [
    "scorer = make_scorer(r2_score)\n",
    "\n",
    "\n",
    "# Perform cross-validation\n",
    "scores = cross_val_score(\n",
    "    pipeline, X_train, y_train, cv=5, scoring=scorer\n",
    ")\n",
    "\n",
    "# Print the mean absolute error for each fold\n",
    "print(\"R2 :\", scores)\n"
   ]
  },
  {
   "cell_type": "code",
   "execution_count": 18,
   "id": "dee9536d",
   "metadata": {},
   "outputs": [
    {
     "name": "stdout",
     "output_type": "stream",
     "text": [
      "R2 : [0.99996177 0.99996615 0.99987725 0.99984563 0.99837062]\n"
     ]
    }
   ],
   "source": [
    "scorer2 = make_scorer(r2_score)\n",
    "\n",
    "\n",
    "# Perform cross-validation\n",
    "scores2 = cross_val_score(\n",
    "    pipeline, X_valid, y_valid, cv=5, scoring=scorer2\n",
    ")\n",
    "\n",
    "# Print the mean absolute error for each fold\n",
    "print(\"R2 :\", scores2)\n"
   ]
  },
  {
   "cell_type": "code",
   "execution_count": 19,
   "id": "25363d8c",
   "metadata": {},
   "outputs": [],
   "source": [
    "#saving the model \n",
    "filename = \"pricing_model.pkl\"\n",
    "pickle.dump(my_model_1, open(filename, \"wb\"))"
   ]
  },
  {
   "cell_type": "code",
   "execution_count": 20,
   "id": "71027993",
   "metadata": {},
   "outputs": [],
   "source": [
    "predictions_2 = my_model_1.predict(X_train)"
   ]
  },
  {
   "cell_type": "code",
   "execution_count": 21,
   "id": "46550f3e",
   "metadata": {},
   "outputs": [
    {
     "data": {
      "text/plain": [
       "array([18.511995 , 15.226254 , 15.694328 , ..., 13.6200905,  3.7549734,\n",
       "       15.694328 ], dtype=float32)"
      ]
     },
     "execution_count": 21,
     "metadata": {},
     "output_type": "execute_result"
    }
   ],
   "source": [
    "predictions_2"
   ]
  },
  {
   "cell_type": "code",
   "execution_count": null,
   "id": "0a239787",
   "metadata": {},
   "outputs": [],
   "source": []
  }
 ],
 "metadata": {
  "kernelspec": {
   "display_name": "Python 3 (ipykernel)",
   "language": "python",
   "name": "python3"
  },
  "language_info": {
   "codemirror_mode": {
    "name": "ipython",
    "version": 3
   },
   "file_extension": ".py",
   "mimetype": "text/x-python",
   "name": "python",
   "nbconvert_exporter": "python",
   "pygments_lexer": "ipython3",
   "version": "3.9.12"
  }
 },
 "nbformat": 4,
 "nbformat_minor": 5
}
